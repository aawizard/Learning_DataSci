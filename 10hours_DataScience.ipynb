{
  "nbformat": 4,
  "nbformat_minor": 0,
  "metadata": {
    "colab": {
      "name": "10hours_DataScience.ipynb",
      "provenance": [],
      "collapsed_sections": [],
      "authorship_tag": "ABX9TyN6ZGdAtGLwzkCPqKhozkW6",
      "include_colab_link": true
    },
    "kernelspec": {
      "name": "python3",
      "display_name": "Python 3"
    }
  },
  "cells": [
    {
      "cell_type": "markdown",
      "metadata": {
        "id": "view-in-github",
        "colab_type": "text"
      },
      "source": [
        "<a href=\"https://colab.research.google.com/github/aawizard/Learning_DataSci/blob/master/10hours_DataScience.ipynb\" target=\"_parent\"><img src=\"https://colab.research.google.com/assets/colab-badge.svg\" alt=\"Open In Colab\"/></a>"
      ]
    },
    {
      "cell_type": "code",
      "metadata": {
        "id": "pYYSoZj9kxs_",
        "colab_type": "code",
        "colab": {}
      },
      "source": [
        "%matplotlib inline\n",
        "import numpy as np\n",
        "import matplotlib.pyplot as plt\n",
        "import pandas as pd\n",
        "plt.rcParams['figure.figsize']=(20.0,10.0)\n"
      ],
      "execution_count": 0,
      "outputs": []
    },
    {
      "cell_type": "markdown",
      "metadata": {
        "id": "ij69jA4lBEw3",
        "colab_type": "text"
      },
      "source": [
        "#Linear Regression without sklearn"
      ]
    },
    {
      "cell_type": "code",
      "metadata": {
        "id": "cEW_AF3kmEfF",
        "colab_type": "code",
        "colab": {}
      },
      "source": [
        "#reading data\n",
        "data=pd.read_csv('/content/headbrain.csv')\n",
        "print(data.shape)\n",
        "#return top n rows of data 5 by default\n",
        "data.head()"
      ],
      "execution_count": 0,
      "outputs": []
    },
    {
      "cell_type": "code",
      "metadata": {
        "id": "jjY9c-Rn1Hx4",
        "colab_type": "code",
        "colab": {}
      },
      "source": [
        "#collecting data\n",
        "X=data['Head Size(cm^3)'].values\n",
        "Y=data['Brain Weight(grams)'].values"
      ],
      "execution_count": 0,
      "outputs": []
    },
    {
      "cell_type": "code",
      "metadata": {
        "id": "BFZO7hp-1y3I",
        "colab_type": "code",
        "colab": {}
      },
      "source": [
        "mean_X=np.mean(X)\n",
        "mean_y=np.mean(Y)\n",
        "#total number of values\n",
        "n=len(X)\n",
        "\n",
        "#finding values of b1 and b0\n",
        "numr=np.dot((X-mean_X),((Y-mean_y).transpose()))\n",
        "deno=np.dot((X-mean_X),(X-mean_X).transpose())\n",
        "\n",
        "b1=numr/deno\n",
        "b0=mean_y-(b1*mean_X)\n",
        "\n",
        "print(b1,b0)\n"
      ],
      "execution_count": 0,
      "outputs": []
    },
    {
      "cell_type": "markdown",
      "metadata": {
        "id": "V0vkWYqvB44o",
        "colab_type": "text"
      },
      "source": [
        "np.dot() is a function which returns the matrix multiplication of two matrixes\n",
        "same can be done by @ oprator"
      ]
    },
    {
      "cell_type": "code",
      "metadata": {
        "id": "djhQQezj6GK8",
        "colab_type": "code",
        "colab": {}
      },
      "source": [
        "#plotting values\n",
        "\n",
        "min_x=np.min(X)-100\n",
        "max_x=np.max(X)+100\n",
        "\n",
        "#calculating line values x and y\n",
        "x=np.linspace(min_x,max_x,1000)\n",
        "y=b1*x+b0\n",
        "\n",
        "#plotting data\n",
        "plt.scatter(X,Y,c='#ef5423',label='Scatter plot')\n",
        "plt.plot(x,y,color='#58b970',label='Regression Line')\n",
        "\n",
        "#marking axis\n",
        "plt.xlabel('Head Size (cm^3)')\n",
        "plt.ylabel('Brain Weight(grams)')\n",
        "plt.legend()\n",
        "plt.show()"
      ],
      "execution_count": 0,
      "outputs": []
    },
    {
      "cell_type": "markdown",
      "metadata": {
        "id": "esi14TPICMwz",
        "colab_type": "text"
      },
      "source": [
        "np.linespace() creates a matrix with values feom min to max at an interval of n"
      ]
    },
    {
      "cell_type": "code",
      "metadata": {
        "id": "laBaUTNZ9UD6",
        "colab_type": "code",
        "colab": {}
      },
      "source": [
        "#finding accurecy using Rsq method\n",
        "y_pred=b0+b1*X\n",
        "#y_pred is predicted value for  and Y is actual value\n",
        "ss_t=(Y-mean_y)@(Y-mean_y).transpose()\n",
        "ss_r=(Y-y_pred)@(Y-y_pred).transpose()\n",
        "\n",
        "r2=1-(ss_r/ss_t)\n",
        "print(r2)"
      ],
      "execution_count": 0,
      "outputs": []
    },
    {
      "cell_type": "markdown",
      "metadata": {
        "id": "bgldIhOsBrjb",
        "colab_type": "text"
      },
      "source": [
        "# Linear Regression using sklearn"
      ]
    },
    {
      "cell_type": "code",
      "metadata": {
        "id": "gBAiC88EBwno",
        "colab_type": "code",
        "colab": {}
      },
      "source": [
        "#importing libraries\n",
        "from sklearn.linear_model import LinearRegression\n",
        "from sklearn.metrics import mean_squared_error\n",
        "m=len(X)\n",
        "X=X.reshape((m,1))\n",
        "#creating model\n",
        "reg=LinearRegression()\n",
        "#fitting training data in model\n",
        "reg=reg.fit(X,Y)\n",
        "#Y prediction\n",
        "Y_predict=reg.predict(X)\n",
        "\n",
        "#calculating RMSE and R2 score\n",
        "mse=mean_squared_error(Y,Y_predict)\n",
        "rmse=np.sqrt(mse)\n",
        "r2_score=reg.score(X,Y)\n",
        "\n",
        "print(rmse)\n",
        "print(r2_score)"
      ],
      "execution_count": 0,
      "outputs": []
    }
  ]
}
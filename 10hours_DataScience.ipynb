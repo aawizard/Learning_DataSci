{
  "nbformat": 4,
  "nbformat_minor": 0,
  "metadata": {
    "colab": {
      "name": "10hours_DataScience.ipynb",
      "provenance": [],
      "authorship_tag": "ABX9TyPdVJmPtF73tBpVInb9koea",
      "include_colab_link": true
    },
    "kernelspec": {
      "name": "python3",
      "display_name": "Python 3"
    }
  },
  "cells": [
    {
      "cell_type": "markdown",
      "metadata": {
        "id": "view-in-github",
        "colab_type": "text"
      },
      "source": [
        "<a href=\"https://colab.research.google.com/github/aawizard/Learning_DataSci/blob/master/10hours_DataScience.ipynb\" target=\"_parent\"><img src=\"https://colab.research.google.com/assets/colab-badge.svg\" alt=\"Open In Colab\"/></a>"
      ]
    },
    {
      "cell_type": "code",
      "metadata": {
        "id": "pYYSoZj9kxs_",
        "colab_type": "code",
        "colab": {}
      },
      "source": [
        "%matplotlib inline\n",
        "import numpy as np\n",
        "import matplotlib.pyplot as plt\n",
        "import pandas as pd\n",
        "plt.rcParams['figure.figsize']=(20.0,10.0)\n"
      ],
      "execution_count": 0,
      "outputs": []
    },
    {
      "cell_type": "markdown",
      "metadata": {
        "id": "eUPZMHOimGJ2",
        "colab_type": "text"
      },
      "source": [
        "Reading Data"
      ]
    },
    {
      "cell_type": "markdown",
      "metadata": {
        "id": "ij69jA4lBEw3",
        "colab_type": "text"
      },
      "source": [
        "#Linear Regression without sklearn"
      ]
    },
    {
      "cell_type": "code",
      "metadata": {
        "id": "cEW_AF3kmEfF",
        "colab_type": "code",
        "colab": {
          "base_uri": "https://localhost:8080/",
          "height": 215
        },
        "outputId": "83ec2043-cc91-4a18-c702-7801a6b48552"
      },
      "source": [
        "data=pd.read_csv('/content/headbrain.csv')\n",
        "print(data.shape)\n",
        "#return top n rows of data 5 by default\n",
        "data.head()"
      ],
      "execution_count": 8,
      "outputs": [
        {
          "output_type": "stream",
          "text": [
            "(237, 4)\n"
          ],
          "name": "stdout"
        },
        {
          "output_type": "execute_result",
          "data": {
            "text/html": [
              "<div>\n",
              "<style scoped>\n",
              "    .dataframe tbody tr th:only-of-type {\n",
              "        vertical-align: middle;\n",
              "    }\n",
              "\n",
              "    .dataframe tbody tr th {\n",
              "        vertical-align: top;\n",
              "    }\n",
              "\n",
              "    .dataframe thead th {\n",
              "        text-align: right;\n",
              "    }\n",
              "</style>\n",
              "<table border=\"1\" class=\"dataframe\">\n",
              "  <thead>\n",
              "    <tr style=\"text-align: right;\">\n",
              "      <th></th>\n",
              "      <th>Gender</th>\n",
              "      <th>Age Range</th>\n",
              "      <th>Head Size(cm^3)</th>\n",
              "      <th>Brain Weight(grams)</th>\n",
              "    </tr>\n",
              "  </thead>\n",
              "  <tbody>\n",
              "    <tr>\n",
              "      <th>0</th>\n",
              "      <td>1</td>\n",
              "      <td>1</td>\n",
              "      <td>4512</td>\n",
              "      <td>1530</td>\n",
              "    </tr>\n",
              "    <tr>\n",
              "      <th>1</th>\n",
              "      <td>1</td>\n",
              "      <td>1</td>\n",
              "      <td>3738</td>\n",
              "      <td>1297</td>\n",
              "    </tr>\n",
              "    <tr>\n",
              "      <th>2</th>\n",
              "      <td>1</td>\n",
              "      <td>1</td>\n",
              "      <td>4261</td>\n",
              "      <td>1335</td>\n",
              "    </tr>\n",
              "    <tr>\n",
              "      <th>3</th>\n",
              "      <td>1</td>\n",
              "      <td>1</td>\n",
              "      <td>3777</td>\n",
              "      <td>1282</td>\n",
              "    </tr>\n",
              "    <tr>\n",
              "      <th>4</th>\n",
              "      <td>1</td>\n",
              "      <td>1</td>\n",
              "      <td>4177</td>\n",
              "      <td>1590</td>\n",
              "    </tr>\n",
              "  </tbody>\n",
              "</table>\n",
              "</div>"
            ],
            "text/plain": [
              "   Gender  Age Range  Head Size(cm^3)  Brain Weight(grams)\n",
              "0       1          1             4512                 1530\n",
              "1       1          1             3738                 1297\n",
              "2       1          1             4261                 1335\n",
              "3       1          1             3777                 1282\n",
              "4       1          1             4177                 1590"
            ]
          },
          "metadata": {
            "tags": []
          },
          "execution_count": 8
        }
      ]
    },
    {
      "cell_type": "code",
      "metadata": {
        "id": "jjY9c-Rn1Hx4",
        "colab_type": "code",
        "colab": {}
      },
      "source": [
        "#collecting data\n",
        "X=data['Head Size(cm^3)'].values\n",
        "Y=data['Brain Weight(grams)'].values"
      ],
      "execution_count": 0,
      "outputs": []
    },
    {
      "cell_type": "code",
      "metadata": {
        "id": "BFZO7hp-1y3I",
        "colab_type": "code",
        "colab": {
          "base_uri": "https://localhost:8080/",
          "height": 34
        },
        "outputId": "aa0d9fab-1c82-4080-8dbb-29b19a348f57"
      },
      "source": [
        "mean_X=np.mean(X)\n",
        "mean_y=np.mean(Y)\n",
        "#total number of values\n",
        "n=len(X)\n",
        "\n",
        "#finding values of b1 and b0\n",
        "numr=np.dot((X-mean_X),((Y-mean_y).transpose()))\n",
        "deno=np.dot((X-mean_X),(X-mean_X).transpose())\n",
        "\n",
        "b1=numr/deno\n",
        "b0=mean_y-(b1*mean_X)\n",
        "\n",
        "print(b1,b0)\n"
      ],
      "execution_count": 23,
      "outputs": [
        {
          "output_type": "stream",
          "text": [
            "0.2634293394893993 325.5734210494428\n"
          ],
          "name": "stdout"
        }
      ]
    },
    {
      "cell_type": "markdown",
      "metadata": {
        "id": "V0vkWYqvB44o",
        "colab_type": "text"
      },
      "source": [
        "np.dot() is a function which returns the matrix multiplication of two matrixes\n",
        "same can be done by @ oprator"
      ]
    },
    {
      "cell_type": "code",
      "metadata": {
        "id": "djhQQezj6GK8",
        "colab_type": "code",
        "colab": {
          "base_uri": "https://localhost:8080/",
          "height": 605
        },
        "outputId": "4a838647-8ff6-4857-99c8-d76db6538d1a"
      },
      "source": [
        "#plotting values\n",
        "\n",
        "min_x=np.min(X)-100\n",
        "max_x=np.max(X)+100\n",
        "\n",
        "#calculating line values x and y\n",
        "x=np.linspace(min_x,max_x,1000)\n",
        "y=b1*x+b0\n",
        "\n",
        "#plotting data\n",
        "plt.scatter(X,Y,c='#ef5423',label='Scatter plot')\n",
        "plt.plot(x,y,color='#58b970',label='Regression Line')\n",
        "\n",
        "#marking axis\n",
        "plt.xlabel('Head Size (cm^3)')\n",
        "plt.ylabel('Brain Weight(grams)')\n",
        "plt.legend()\n",
        "plt.show()"
      ],
      "execution_count": 29,
      "outputs": [
        {
          "output_type": "display_data",
          "data": {
            "image/png": "[encoded data removed]",
            "text/plain": [
              "<Figure size 1440x720 with 1 Axes>"
            ]
          },
          "metadata": {
            "tags": [],
            "needs_background": "light"
          }
        }
      ]
    },
    {
      "cell_type": "markdown",
      "metadata": {
        "id": "esi14TPICMwz",
        "colab_type": "text"
      },
      "source": [
        "np.linespace() creates a matrix with values feom min to max at an interval of n"
      ]
    },
    {
      "cell_type": "code",
      "metadata": {
        "id": "laBaUTNZ9UD6",
        "colab_type": "code",
        "colab": {
          "base_uri": "https://localhost:8080/",
          "height": 34
        },
        "outputId": "b27fa084-4de6-4c0b-840f-039f4da126fc"
      },
      "source": [
        "#finding accurecy using Rsq method\n",
        "y_pred=b0+b1*X\n",
        "#y_pred is predicted value for  and Y is actual value\n",
        "ss_t=(Y-mean_y)@(Y-mean_y).transpose()\n",
        "ss_r=(Y-y_pred)@(Y-y_pred).transpose()\n",
        "\n",
        "r2=1-(ss_r/ss_t)\n",
        "print(r2)"
      ],
      "execution_count": 36,
      "outputs": [
        {
          "output_type": "stream",
          "text": [
            "0.6393117199570002\n"
          ],
          "name": "stdout"
        }
      ]
    },
    {
      "cell_type": "markdown",
      "metadata": {
        "id": "bgldIhOsBrjb",
        "colab_type": "text"
      },
      "source": [
        "# Linear Regression using sklearn"
      ]
    },
    {
      "cell_type": "code",
      "metadata": {
        "id": "gBAiC88EBwno",
        "colab_type": "code",
        "colab": {}
      },
      "source": [
        ""
      ],
      "execution_count": 0,
      "outputs": []
    }
  ]
}